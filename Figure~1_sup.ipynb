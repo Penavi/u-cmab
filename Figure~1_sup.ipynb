{
 "cells": [
  {
   "cell_type": "code",
   "execution_count": null,
   "metadata": {},
   "outputs": [],
   "source": [
    "from u_cmab import Fourier\n",
    "from u_cmab import Static_UM\n",
    "from u_cmab import plot_results\n",
    "import simulation_code\n",
    "\n",
    "import numpy as np\n",
    "import math\n",
    "import matplotlib as mpl\n",
    "import matplotlib.pyplot as plt\n",
    "import matplotlib.font_manager as fm\n",
    "\n",
    "from pylift import TransformedOutcome\n",
    "from sklearn.tree import DecisionTreeRegressor\n",
    "from sklearn.ensemble import RandomForestRegressor\n",
    "import simulation_code"
    
   ]
  },
  {
   "cell_type": "code",
   "execution_count": null,
   "metadata": {},
   "outputs": [],
   "source": [
    "def restyle(ax, yticks):\n",
    "    ax.title.set_fontsize(30)\n",
    "    ax.title.set_text(\"\")\n",
    "    ax.title.set_fontfamily(\"sans-serif\")\n",
    "    \n",
    "    ax.xaxis.label.set_fontsize(30)\n",
    "    ax.xaxis.label.set_fontfamily(\"sans-serif\")\n",
    "    ax.xaxis.label.set_text('Fraction of data')\n",
    "\n",
    "    ax.yaxis.label.set_fontsize(30)\n",
    "    ax.yaxis.label.set_fontfamily(\"sans-serif\")\n",
    "    ax.yaxis.label.set_text('Uplift')\n",
    "\n",
    "    ax.set_yticks(yticks)\n",
    "    ax.set_xticks([0, .5, 1])\n",
    "\n",
    "    ax.xaxis.set_tick_params(labelsize=30)\n",
    "    ax.yaxis.set_tick_params(labelsize=30)\n",
    "\n",
    "    ax.figure.set_size_inches(13.5, 10.5)\n",
    "\n",
    "    font = fm.FontProperties(family='sans-serif', size=23)\n",
    "  \n",
    "    for l in ax.get_lines():\n",
    "        if l.get_label() == \"Random selection\":\n",
    "            l.set_linewidth(3)\n",
    "            l.set_dashes((5,5))\n",
    "            l.set_color('black')\n",
    "            \n",
    "    ax.legend(prop=font, loc='upper left')\n",
    "\n",
    "    return ax"
   ]
  },
  {
   "cell_type": "markdown",
   "metadata": {},
   "source": [
    "# Collect data\n",
    "Sudden drift at exp. #10000"
   ]
  },
  {
   "cell_type": "code",
   "execution_count": null,
   "metadata": {},
   "outputs": [],
   "source": [
    "sim = simulation_code.Simulation(D=2, std=0.2, drift_rate=3.5, sudden_drift=True, drift_moments=np.array([10000]), base_functions=np.array([simulation_code.Sine_Base(f=4), simulation_code.Sine_Base(f=5)]))\n",
    "\n",
    "fourier = Fourier(sim, order=5)\n",
    "\n",
    "epsilon = .1\n",
    "alpha = .005\n",
    "\n",
    "_ = fourier.run(epsilon, alpha, .2, 100, lifetime=20000)"
   ]
  },
  {
   "cell_type": "markdown",
   "metadata": {},
   "source": [
    "# Train static uplift model with `pylift`\n",
    "- `up_before`: training set `[0:7001]`, test set `[7001:20001]`\n",
    "- `up_after`: training set `[10000:17001]`, test set `[17001:20001]`\n",
    "- `up_before`: training set `[0:17001]`, test set `[17001:20001]`"
   ]
  },
  {
   "cell_type": "code",
   "execution_count": null,
   "metadata": {},
   "outputs": [],
   "source": [
    "#URF\n",
    "up_before = TransformedOutcome((\n",
    "    fourier.RP_run_history.iloc[:,0:4][0:7001], \n",
    "    fourier.RP_run_history.iloc[:,0:4][7001:10001]), \n",
    "    col_treatment='C', col_outcome='E', \n",
    "    stratify=None, \n",
    "    sklearn_model=RandomForestRegressor)\n",
    "up_after = TransformedOutcome((\n",
    "    fourier.RP_run_history.iloc[:,0:4][10000:17001], \n",
    "    fourier.RP_run_history.iloc[:,0:4][17001:20001]), \n",
    "    col_treatment='C', col_outcome='E', \n",
    "    stratify=None, \n",
    "    sklearn_model=RandomForestRegressor)\n",
    "up_across = TransformedOutcome((\n",
    "    fourier.RP_run_history.iloc[:,0:4][0:17001], \n",
    "    fourier.RP_run_history.iloc[:,0:4][17001:20001]), \n",
    "    col_treatment='C', col_outcome='E', \n",
    "    stratify=None, \n",
    "    sklearn_model=RandomForestRegressor)"
   ]
  },
  {
   "cell_type": "code",
   "execution_count": null,
   "metadata": {},
   "outputs": [],
   "source": [
    "#XGB\n",
    "up_before_xgb = TransformedOutcome((\n",
    "    fourier.RP_run_history.iloc[:,0:4][0:7001], \n",
    "    fourier.RP_run_history.iloc[:,0:4][7001:10001]), \n",
    "    col_treatment='C', col_outcome='E', \n",
    "    stratify=None)\n",
    "up_after_xgb = TransformedOutcome((\n",
    "    fourier.RP_run_history.iloc[:,0:4][10000:17001], \n",
    "    fourier.RP_run_history.iloc[:,0:4][17001:20001]), \n",
    "    col_treatment='C', col_outcome='E', \n",
    "    stratify=None)\n",
    "up_across_xgb = TransformedOutcome((\n",
    "    fourier.RP_run_history.iloc[:,0:4][0:17001], \n",
    "    fourier.RP_run_history.iloc[:,0:4][17001:20001]), \n",
    "    col_treatment='C', col_outcome='E', \n",
    "    stratify=None)"
   ]
  },
  {
   "cell_type": "code",
   "execution_count": null,
   "metadata": {
    "scrolled": true
   },
   "outputs": [],
   "source": [
    "up_before.randomized_search(\n",
    "    param_distributions={'max_depth': range(2,100), 'min_samples_split': range(2,1000)}, \n",
    "    n_iter=50, n_jobs=10)\n",
    "up_after.randomized_search(\n",
    "    param_distributions={'max_depth': range(2,100), 'min_samples_split': range(2,1000)}, \n",
    "    n_iter=50, n_jobs=10)\n",
    "up_across.randomized_search(\n",
    "    param_distributions={'max_depth': range(2,100), 'min_samples_split': range(2,1000)}, \n",
    "    n_iter=50, n_jobs=10)"
   ]
  },
  {
   "cell_type": "code",
   "execution_count": null,
   "metadata": {
    "scrolled": true
   },
   "outputs": [],
   "source": [
    "up_before_xgb.randomized_search()\n",
    "up_after_xgb.randomized_search()\n",
    "up_across_xgb.randomized_search()"
   ]
  },
  {
   "cell_type": "code",
   "execution_count": null,
   "metadata": {},
   "outputs": [],
   "source": [
    "up_before.fit(**up_before.rand_search_.best_params_)\n",
    "up_after.fit(**up_after.rand_search_.best_params_)\n",
    "up_across.fit(**up_across.rand_search_.best_params_)"
   ]
  },
  {
   "cell_type": "code",
   "execution_count": null,
   "metadata": {},
   "outputs": [],
   "source": [
    "up_before_xgb.fit(**up_before_xgb.rand_search_.best_params_)\n",
    "up_after_xgb.fit(**up_after_xgb.rand_search_.best_params_)\n",
    "up_across_xgb.fit(**up_across_xgb.rand_search_.best_params_)"
   ]
  },
  {
   "cell_type": "markdown",
   "metadata": {},
   "source": [
    "### Noise fits"
   ]
  },
  {
   "cell_type": "code",
   "execution_count": null,
   "metadata": {},
   "outputs": [],
   "source": [
    "up_before.noise_fit(iterations=25)\n",
    "up_after.noise_fit(iterations=25)\n",
    "up_across.noise_fit(iterations=25)"
   ]
  },
  {
   "cell_type": "code",
   "execution_count": null,
   "metadata": {},
   "outputs": [],
   "source": [
    "up_before_xgb.noise_fit(iterations=25)\n",
    "up_after_xgb.noise_fit(iterations=25)\n",
    "up_across_xgb.noise_fit(iterations=25)"
   ]
  },
  {
   "cell_type": "markdown",
   "metadata": {},
   "source": [
    "# Plot results"
   ]
  },
  {
   "cell_type": "code",
   "execution_count": null,
   "metadata": {
    "scrolled": false
   },
   "outputs": [],
   "source": [
    "ax1 = restyle(up_before.plot(show_noise_fits=True,label=\"URF\", color='firebrick', markersize=13, linewidth=3), [0, .14])\n",
    "ax2 = restyle(up_after.plot(show_noise_fits=True,label=\"URF\", color='firebrick', markersize=13, linewidth=3), [0, .13])\n",
    "ax3 = restyle(up_across.plot(show_noise_fits=True,label=\"URF\", color='firebrick', markersize=13, linewidth=3), [-.01, .02])"
   ]
  },
  {
   "cell_type": "code",
   "execution_count": null,
   "metadata": {
    "scrolled": false
   },
   "outputs": [],
   "source": [
    "axxb1 = restyle(up_before_xgb.plot(show_noise_fits=True,label=\"XGB\", color='mediumvioletred', markersize=13, linewidth=3), [0, 0.1])\n",
    "axxb2 = restyle(up_after_xgb.plot(show_noise_fits=True,label=\"XGB\", color='mediumvioletred', markersize=13, linewidth=3), [-.01, .04])\n",
    "axxb3 = restyle(up_across_xgb.plot(show_noise_fits=True,label=\"XGB\", color='mediumvioletred', markersize=13, linewidth=3), [-.01, .03])"
   ]
  },
  {
   "cell_type": "markdown",
   "metadata": {},
   "source": [
    "### Save plots"
   ]
  },
  {
   "cell_type": "raw",
   "metadata": {},
   "source": [
    "ax1.figure.savefig('urf1.pdf', bbox_inches='tight', pad_inches=0)\n",
    "ax2.figure.savefig('urf2.pdf', bbox_inches='tight', pad_inches=0)\n",
    "ax3.figure.savefig('urf3.pdf', bbox_inches='tight', pad_inches=0)"
   ]
  },
  {
   "cell_type": "raw",
   "metadata": {},
   "source": [
    "axxb1.figure.savefig('xgb1.pdf', bbox_inches='tight', pad_inches=0)\n",
    "axxb2.figure.savefig('xgb2.pdf', bbox_inches='tight', pad_inches=0)\n",
    "axxb3.figure.savefig('xgb3.pdf', bbox_inches='tight', pad_inches=0)"
   ]
  }
 ],
 "metadata": {
  "kernelspec": {
   "display_name": "Python 3",
   "language": "python",
   "name": "python3"
  },
  "language_info": {
   "codemirror_mode": {
    "name": "ipython",
    "version": 3
   },
   "file_extension": ".py",
   "mimetype": "text/x-python",
   "name": "python",
   "nbconvert_exporter": "python",
   "pygments_lexer": "ipython3",
   "version": "3.7.1"
  }
 },
 "nbformat": 4,
 "nbformat_minor": 2
}
