{
 "cells": [
  {
   "cell_type": "code",
   "execution_count": null,
   "metadata": {},
   "outputs": [],
   "source": [
    "from u_cmab import Fourier\n",
    "from u_cmab import Static_UM\n",
    "from u_cmab import plot_results\n",
    "import simulation_code\n",
    "\n",
    "import numpy as np\n",
    "import math\n",
    "import matplotlib as mpl\n",
    "import matplotlib.pyplot as plt"
   ]
  },
  {
   "cell_type": "code",
   "execution_count": null,
   "metadata": {},
   "outputs": [],
   "source": [
    "window = 150\n",
    "\n",
    "static_dataset_size = 2500\n",
    "total_experiment_count = 30000\n",
    "drift_moments = np.array([10000, 18000, 23000, 25000])\n",
    "\n",
    "run_count = 10 #** 2"
   ]
  },
  {
   "cell_type": "code",
   "execution_count": null,
   "metadata": {},
   "outputs": [],
   "source": [
    "line_args=[\n",
    "    {\"color\": \"dodgerblue\", \"linewidth\": 2, \"zorder\": 103, \"label\": \"U-CMAB\"}, \n",
    "    {\"color\": \"firebrick\", \"linewidth\": 2, \"zorder\": 102, \"label\": \"Random Forest (ADWIN)\"}, \n",
    "    {\"color\": \"forestgreen\", \"linewidth\": 2, \"zorder\": 103, \"label\": \"CMAB\"}]\n",
    "band_args=[\n",
    "    {\"color\": \"turquoise\", \"alpha\": .35, \"linewidth\":0, \"zorder\": 101}, \n",
    "    {\"color\": \"deeppink\", \"alpha\": .15, \"linewidth\":0, \"zorder\": 100}, \n",
    "    {\"color\": \"lime\", \"alpha\": .25, \"linewidth\":0, \"zorder\": 100}]\n",
    "all_lines_args=[\n",
    "    {\"color\": \"deepskyblue\", \"alpha\": .1, \"linewidth\": .5}, \n",
    "    {\"color\": \"crimson\", \"alpha\": .1, \"linewidth\": .5}, \n",
    "    {\"color\": \"black\", \"alpha\": .1, \"linewidth\": .5}]\n",
    "std_args=[\n",
    "    {\"color\": \"deepskyblue\", \"linestyle\": \"--\", \"linewidth\": 2, \"dashes\": [10, 10]}, \n",
    "    {\"color\": \"crimson\", \"linestyle\": \"--\", \"linewidth\": 2, \"dashes\": [10, 10]}, \n",
    "    {\"color\": \"black\", \"linestyle\": \"--\", \"linewidth\": 2, \"dashes\": [10, 10]}]\n",
    "\n",
    "stop_RP_args={\"color\": \"tab:gray\", \"linewidth\":2, \"linestyle\": \"--\", \"dashes\": [5,5], \"alpha\": .8}\n",
    "stop_RP_text_args={\"y\": .95, \"color\": \"tab:gray\", \"size\": 19, \"fontstyle\": \"italic\"}\n",
    "drift_line_args={\"linestyle\": \":\", \"color\": \"tab:green\", \"alpha\": 1, \"linewidth\": 3}"
   ]
  },
  {
   "cell_type": "code",
   "execution_count": null,
   "metadata": {
    "scrolled": true
   },
   "outputs": [],
   "source": [
    "fourier_ids = np.empty([run_count, total_experiment_count])\n",
    "fourier_reg_ids = np.empty([run_count, total_experiment_count])\n",
    "static_ids = np.empty([run_count, total_experiment_count])\n",
    "static_params = np.empty([run_count, 2])\n",
    "\n",
    "for i in range(run_count):\n",
    "    tau= (.45 - .25) * np.random.ranf() + .25\n",
    "    ply_q = np.random.randint(6,10)\n",
    "    K=np.random.normal(1,.5, ply_q+1)\n",
    "    drift_rate=2.5# (3.0 - 2.0) * np.random.ranf() + 2.0\n",
    "    \n",
    "        #  the order of the Fourier approx. (O) is best chosen in \n",
    "        #  function of D as O and D affect the amount of frequency \n",
    "        #  vectors exponentially, causing a curse of dimensionality\n",
    "        #  [Konindaris et al., 2011].\n",
    "    D = np.random.randint(2,5)   \n",
    "    O = 8-D \n",
    "\n",
    "    sim = simulation_code.Simulation(\n",
    "        D=2, drift_moments=drift_moments, drift_rate=drift_rate, sudden_drift=True,\n",
    "        base_functions=np.array([\n",
    "            simulation_code.Sine_Base(f=4),#np.random.randint(6,10)), \n",
    "            simulation_code.Sine_Base(f=5)#np.random.randint(6,10))\n",
    "        ]))\n",
    "        \n",
    "    fourier = Fourier(sim, order=5)\n",
    "    fourier_id, fourier_dm, fourier_reg_id, tot_rew, exec_ac, tot_rew_reg, exec_ac_reg = fourier.run(\n",
    "        epsilon=.1, \n",
    "        alpha=.005, \n",
    "        tau=tau, window=window, \n",
    "        lifetime=total_experiment_count)\n",
    "    print(\"--Fourier {} Completed--\".format(i+1))\n",
    "    \n",
    "    static = Static_UM(RP_run_history=fourier.RP_run_history)\n",
    "    up, static_id = static.run( \n",
    "        static_dataset_size=static_dataset_size, \n",
    "        total_experiment_count=total_experiment_count, \n",
    "        tau=tau, window=window)\n",
    "\n",
    "    \n",
    "    fourier_ids[i] = fourier_id\n",
    "    fourier_reg_ids[i] = fourier_reg_id\n",
    "    static_ids[i] = static_id\n",
    "    static_params[i] = list(up.rand_search_.best_params_.values())"
   ]
  },
  {
   "cell_type": "code",
   "execution_count": null,
   "metadata": {},
   "outputs": [],
   "source": [
    "avg_ids = [np.mean(fourier_ids, axis=0), np.mean(static_ids, axis=0), np.mean(fourier_reg_ids, axis=0)]#, PH_v]\n",
    "stds = [np.std(fourier_ids, axis=0), np.std(static_ids, axis=0), np.std(fourier_reg_ids, axis=0)]#, np.zeros(len(PH_v))]"
   ]
  },
  {
   "cell_type": "code",
   "execution_count": null,
   "metadata": {},
   "outputs": [],
   "source": [
    "fig, ax = plot_results(avg_ids, stds, drift_moments, \n",
    "                 line_args=line_args, band_args=band_args, all_lines_args=all_lines_args, std_args=std_args,\n",
    "                stop_RP=static_dataset_size, stop_RP_args=stop_RP_args, stop_RP_text_args=stop_RP_text_args, drift_line_args=drift_line_args)"
   ]
  },
  {
   "cell_type": "raw",
   "metadata": {},
   "source": [
    "ax.figure.savefig('sudden_PH.pdf', bbox_inches='tight', pad_inches=0)"
   ]
  },
  {
   "cell_type": "code",
   "execution_count": null,
   "metadata": {},
   "outputs": [],
   "source": [
    "static_dataset_size_gd = 2500\n",
    "total_experiment_count_gd = 20000\n",
    "drift_over_time_gd = 30000\n",
    "run_count_gd = 10 #** 2"
   ]
  },
  {
   "cell_type": "code",
   "execution_count": null,
   "metadata": {
    "scrolled": true
   },
   "outputs": [],
   "source": [
    "fourier_ids_gd = np.empty([run_count_gd, total_experiment_count_gd])\n",
    "fourier_reg_ids_gd = np.empty([run_count_gd, total_experiment_count_gd])\n",
    "static_ids_gd = np.empty([run_count_gd, total_experiment_count_gd])\n",
    "static_params_gd = np.empty([run_count_gd, 2])\n",
    "\n",
    "for i in range(run_count_gd):\n",
    "    tau= (.45 - .25) * np.random.ranf() + .25\n",
    "    ply_q = np.random.randint(6,10)\n",
    "    K=np.random.normal(1,.5, ply_q+1)\n",
    "    drift_rate=(2.7 - 2.3) * np.random.ranf() + 2.3\n",
    "    \n",
    "        #  the order of the Fourier approx. (O) is best chosen in \n",
    "        #  function of D as O and D affect the amount of frequency \n",
    "        #  vectors exponentially, causing a curse of dimensionality\n",
    "        #  [Konindaris et al., 2011].\n",
    "    D = np.random.randint(2,4)   \n",
    "    O = 7-D \n",
    "\n",
    "    sim = simulation_code.Simulation(\n",
    "        D=D, drift_over_time=drift_over_time_gd, drift_rate=drift_rate, sudden_drift=False,\n",
    "        base_functions=np.array([\n",
    "            simulation_code.Sine_Base(f=np.random.randint(3,6)), \n",
    "            simulation_code.Sine_Base(f=np.random.randint(4,7))\n",
    "        ]))\n",
    "    \n",
    "    fourier = Fourier(sim, order=O, regular=False)\n",
    "    fourier_id, fourier_dm, fourier_reg_id, tot_rew, exec_ac, tot_rew_reg, exec_ac_reg = fourier.run(\n",
    "        epsilon=.1, \n",
    "        alpha= (O-1)/1000,\n",
    "        tau=tau, window=window, \n",
    "        lifetime=total_experiment_count_gd)\n",
    "    print(f\"--Fourier {i+1} Completed--\")\n",
    "    \n",
    "    static = Static_UM(RP_run_history=fourier.RP_run_history)\n",
    "    up, static_id = static.run(PH_alpha=.05,\n",
    "        static_dataset_size=static_dataset_size_gd, \n",
    "        total_experiment_count=total_experiment_count_gd, \n",
    "        tau=tau, window=window)\n",
    "    \n",
    "    fourier_ids_gd[i] = fourier_id\n",
    "    fourier_reg_ids_gd[i] = fourier_reg_id\n",
    "    static_ids_gd[i] = static_id\n",
    "    static_params_gd[i] = list(up.rand_search_.best_params_.values())"
   ]
  },
  {
   "cell_type": "code",
   "execution_count": null,
   "metadata": {},
   "outputs": [],
   "source": [
    "avg_ids_gd = [np.mean(fourier_ids_gd, axis=0), np.mean(static_ids_gd, axis=0), np.mean(fourier_reg_ids_gd, axis=0)]\n",
    "stds_gd = [np.std(fourier_ids_gd, axis=0), np.std(static_ids_gd, axis=0), np.std(fourier_reg_ids_gd, axis=0)]"
   ]
  },
  {
   "cell_type": "code",
   "execution_count": null,
   "metadata": {},
   "outputs": [],
   "source": [
    "fig_gd, ax_gd = plot_results(avg_ids_gd, stds_gd, np.array([]), \n",
    "                 line_args=line_args, band_args=band_args, all_lines_args=all_lines_args, std_args=std_args,\n",
    "                stop_RP=static_dataset_size, stop_RP_args=stop_RP_args, stop_RP_text_args=stop_RP_text_args, drift_line_args=drift_line_args)"
   ]
  },
  {
   "cell_type": "raw",
   "metadata": {},
   "source": [
    "ax_gd.figure.savefig('gradual_PH.pdf', bbox_inches='tight', pad_inches=0)"
   ]
  }
 ],
 "metadata": {
  "kernelspec": {
   "display_name": "Python 3",
   "language": "python",
   "name": "python3"
  },
  "language_info": {
   "codemirror_mode": {
    "name": "ipython",
    "version": 3
   },
   "file_extension": ".py",
   "mimetype": "text/x-python",
   "name": "python",
   "nbconvert_exporter": "python",
   "pygments_lexer": "ipython3",
   "version": "3.7.1"
  }
 },
 "nbformat": 4,
 "nbformat_minor": 2
}
