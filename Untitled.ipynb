{
 "cells": [
  {
   "cell_type": "code",
   "execution_count": 1,
   "metadata": {},
   "outputs": [],
   "source": [
    "import torch\n",
    "import torch.nn as nn\n",
    "import torch.nn.functional as F\n",
    "import torch.optim as optim\n",
    "\n",
    "import numpy as np\n",
    "import math\n",
    "import pandas as pd\n",
    "\n",
    "import matplotlib.pyplot as plt\n"
   ]
  },
  {
   "cell_type": "code",
   "execution_count": 2,
   "metadata": {},
   "outputs": [],
   "source": [
    "data = pd.read_csv(\"http://www.minethatdata.com/Kevin_Hillstrom_MineThatData_E-MailAnalytics_DataMiningChallenge_2008.03.20.csv\")\n",
    "data[\"segment\"] = data[\"segment\"].astype(\"category\")\n",
    "data[\"history_segment\"] = data[\"history_segment\"].astype(\"category\")\n",
    "data[\"zip_code\"] = data[\"zip_code\"].astype(\"category\")\n",
    "data[\"channel\"] = data[\"channel\"].astype(\"category\")"
   ]
  },
  {
   "cell_type": "code",
   "execution_count": 8,
   "metadata": {},
   "outputs": [],
   "source": [
    "class DFN(nn.Module):\n",
    "    def __init__(self, context_n, treatment_n):\n",
    "        super(DFN, self).__init__()\n",
    "        \n",
    "        self.context_n = context_n\n",
    "        self.treatment_n = treatment_n\n",
    "        \n",
    "        self.lin1 = nn.Linear(context_n, 10)\n",
    "        self.extra = nn.Linear(10, 10)\n",
    "        self.fc = nn.Linear(10, treatment_n)\n",
    "        \n",
    "    def forward(self, xb):\n",
    "        xb = self.lin1(xb)\n",
    "        xb = F.relu(self.extra(xb))\n",
    "        xb = F.relu(xb)\n",
    "        return self.fc(xb)"
   ]
  },
  {
   "cell_type": "code",
   "execution_count": 18,
   "metadata": {},
   "outputs": [],
   "source": [
    "class Data:\n",
    "    def __init__(self, data):\n",
    "        self.data = data\n",
    "    \n",
    "    def sample(self, n=30):\n",
    "        s = data.sample(n=n, replace=True)\n",
    "\n",
    "        context = s[[\"recency\", \"history_segment\", \"history\", \"mens\", \"womens\", \"zip_code\", \"newbie\", \"channel\"]].copy()\n",
    "        treatment = s[\"segment\"]\n",
    "        reward = s[\"visit\"]\n",
    "        \n",
    "        one_hot_hs = pd.get_dummies(context[\"history_segment\"], prefix=\"hs\")\n",
    "        one_hot_zc = pd.get_dummies(context[\"zip_code\"], prefix=\"zc\")\n",
    "        one_hot_c = pd.get_dummies(context[\"channel\"], prefix=\"c\")\n",
    "\n",
    "        context = pd.concat([context[[\"recency\", \"history\", \"mens\", \"womens\", \"newbie\"]], one_hot_hs, one_hot_zc, one_hot_c], axis=1)\n",
    "\n",
    "        return (context.values, treatment.values, reward.values)"
   ]
  },
  {
   "cell_type": "code",
   "execution_count": 19,
   "metadata": {},
   "outputs": [],
   "source": [
    "class Model():\n",
    "    def __init__(self, context_n, treatment_n, Psi, data):\n",
    "        self.context_n = context_n\n",
    "        self.treatment_n = treatment_n\n",
    "        self.Psi = Psi\n",
    "        \n",
    "        self.learning_rate = 1e-5\n",
    "        \n",
    "        self.model = DFN(context_n, treatment_n)\n",
    "        \n",
    "        self.loss_f = nn.MSELoss()#reduction=\"none\")\n",
    "        self.opt = optim.Adam(self.model.parameters(), lr=self.learning_rate)\n",
    "        \n",
    "        self.data = Data(data)\n",
    "\n",
    "    def train_batch(self, batch_size=32):\n",
    "        c, t, r = self.data.sample(n=batch_size)\n",
    "\n",
    "        context = torch.tensor(c, dtype=torch.float, requires_grad=False)\n",
    "        target = self.model(context).detach()\n",
    "        mask = torch.tensor(pd.get_dummies(t).values).byte()\n",
    "        \n",
    "        target[mask] = torch.tensor(r, dtype=torch.float)\n",
    "        est = m.model(context)\n",
    "        loss = m.loss_f(est, target)\n",
    "        \n",
    "        l = loss.item()\n",
    "        \n",
    "        self.opt.zero_grad()\n",
    "        loss.backward()\n",
    "        self.opt.step()\n",
    "        \n",
    "        return l\n",
    "    "
   ]
  },
  {
   "cell_type": "code",
   "execution_count": 20,
   "metadata": {},
   "outputs": [
    {
     "name": "stdout",
     "output_type": "stream",
     "text": [
      "epoch 0 done with avg loss of 61.75552864482999\n",
      "epoch 1 done with avg loss of 16.42057161240466\n",
      "epoch 2 done with avg loss of 3.535393934411928\n",
      "epoch 3 done with avg loss of 0.21415438090311364\n",
      "epoch 4 done with avg loss of 0.054783874766202646\n",
      "epoch 5 done with avg loss of 0.04735172081040218\n",
      "epoch 6 done with avg loss of 0.04381149251188617\n",
      "epoch 7 done with avg loss of 0.043997778255084996\n",
      "epoch 8 done with avg loss of 0.042460493923746984\n",
      "epoch 9 done with avg loss of 0.042226445686304945\n",
      "epoch 10 done with avg loss of 0.04184333630674519\n",
      "epoch 11 done with avg loss of 0.04195312115259003\n",
      "epoch 12 done with avg loss of 0.04231898536277003\n",
      "epoch 13 done with avg loss of 0.04182114778889809\n",
      "epoch 14 done with avg loss of 0.041918975899112414\n",
      "epoch 15 done with avg loss of 0.041645602081611284\n",
      "epoch 16 done with avg loss of 0.04135107453225646\n",
      "epoch 17 done with avg loss of 0.04157204295037081\n",
      "epoch 18 done with avg loss of 0.04116186484711943\n",
      "epoch 19 done with avg loss of 0.041379574199207125\n"
     ]
    }
   ],
   "source": [
    "m = Model(18, 3, [0, .2, .2], data)\n",
    "batch_size = 16\n",
    "\n",
    "losses = []\n",
    "\n",
    "for epoch in range(20):\n",
    "    loss = []\n",
    "    for i in range(64000//batch_size):        \n",
    "        l = m.train_batch(batch_size=batch_size)\n",
    "        loss.append(l)\n",
    "    \n",
    "    losses.append(np.average(loss))\n",
    "    print(f\"epoch {epoch} done with avg loss of {losses[epoch]}\")\n"
   ]
  },
  {
   "cell_type": "code",
   "execution_count": 21,
   "metadata": {},
   "outputs": [
    {
     "data": {
      "text/plain": [
       "[<matplotlib.lines.Line2D at 0x11b1c03c8>]"
      ]
     },
     "execution_count": 21,
     "metadata": {},
     "output_type": "execute_result"
    },
    {
     "data": {
      "image/png": "[encoded data removed]",
      "text/plain": [
       "<Figure size 432x288 with 1 Axes>"
      ]
     },
     "metadata": {
      "needs_background": "light"
     },
     "output_type": "display_data"
    }
   ],
   "source": [
    "plt.plot(np.linspace(0, len(losses)+1, len(losses)), losses)"
   ]
  },
  {
   "cell_type": "code",
   "execution_count": null,
   "metadata": {},
   "outputs": [],
   "source": [
    "c, t, r = d.sample(n=30)\n",
    "\n",
    "context = torch.tensor(c, dtype=torch.float, requires_grad=False)\n",
    "target = m.model(context).detach()\n",
    "\n",
    "mask = torch.tensor(pd.get_dummies(t).values).byte()\n",
    "\n",
    "print(torch.tensor(r))\n",
    "print(target[mask])\n",
    "\n",
    "target[mask] = torch.tensor(r, dtype=torch.float, requires_grad=False)\n",
    "\n",
    "est = m.model(context)\n",
    "loss = m.loss_f(est, target)\n",
    "print(target)\n",
    "print(loss)"
   ]
  },
  {
   "cell_type": "code",
   "execution_count": null,
   "metadata": {},
   "outputs": [],
   "source": [
    "[1,2,3,4]"
   ]
  },
  {
   "cell_type": "code",
   "execution_count": null,
   "metadata": {},
   "outputs": [],
   "source": []
  }
 ],
 "metadata": {
  "kernelspec": {
   "display_name": "Python (RL1)",
   "language": "python",
   "name": "rl1"
  },
  "language_info": {
   "codemirror_mode": {
    "name": "ipython",
    "version": 3
   },
   "file_extension": ".py",
   "mimetype": "text/x-python",
   "name": "python",
   "nbconvert_exporter": "python",
   "pygments_lexer": "ipython3",
   "version": "3.7.1"
  }
 },
 "nbformat": 4,
 "nbformat_minor": 2
}
