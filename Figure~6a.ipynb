{
 "cells": [
  {
   "cell_type": "code",
   "execution_count": null,
   "metadata": {},
   "outputs": [],
   "source": [
    "from u_cmab import Fourier\n",
    "from u_cmab import Static_UM\n",
    "from u_cmab import plot_results\n",
    "import simulation_code\n",
    "\n",
    "import numpy as np\n",
    "import math\n",
    "import matplotlib as mpl\n",
    "import matplotlib.pyplot as plt"
   ]
  },
  {
   "cell_type": "markdown",
   "metadata": {},
   "source": [
    "# Parameters\n",
    "- `window`: size of the windowed average uplift regret\n",
    "- `static_dataset_size`: amount of random experiments conducted and provided to the static uplift model\n",
    "- `total_experiment_count`: length of the total run\n",
    "- `run_count`: total amount of simulations created, take note before increasing as this will increase runtime significantly"
   ]
  },
  {
   "cell_type": "code",
   "execution_count": null,
   "metadata": {},
   "outputs": [],
   "source": [
    "window = 150\n",
    "static_dataset_size = 2500#5000\n",
    "total_experiment_count = 15000\n",
    "run_count = 10# ** 2"
   ]
  },
  {
   "cell_type": "code",
   "execution_count": null,
   "metadata": {
    "scrolled": true
   },
   "outputs": [],
   "source": [
    "fourier_ids = np.empty([run_count,total_experiment_count])\n",
    "fourier_reg_ids = np.empty([run_count, total_experiment_count])\n",
    "static_ids = np.empty([run_count, total_experiment_count])\n",
    "static_params = np.empty([run_count, 2])\n",
    "\n",
    "for i in range(run_count):    \n",
    "    ply_q = np.random.randint(6,10)\n",
    "    tau = (.45 - .25) * np.random.ranf() + .25\n",
    "        #  the order of the Fourier approx. (O) is best chosen in \n",
    "        #  function of D as O and D affect the amount of frequency \n",
    "        #  vectors exponentially, causing a curse of dimensionality\n",
    "        #  [Konindaris et al., 2011].\n",
    "    D = np.random.randint(2,4)   \n",
    "    O = 7-D \n",
    "            \n",
    "\n",
    "    K=np.random.normal(1,.5, ply_q+1)\n",
    "    sim = simulation_code.Simulation(\n",
    "        D=D, base_functions=np.array([\n",
    "            simulation_code.Sine_Base(f=np.random.randint(6,10)), \n",
    "            simulation_code.Sine_Base(f=np.random.randint(4,7))\n",
    "        ]))\n",
    "    \n",
    "    fourier = Fourier(sim, order=O)\n",
    "    fourier_id, fourier_dm, fourier_reg_id, tot_rew, exec_ac, tot_rew_reg, exec_ac_reg = fourier.run(\n",
    "        epsilon=.07, \n",
    "        alpha=(O-1)/1000,\n",
    "        tau=tau, window=window, \n",
    "        lifetime=total_experiment_count)\n",
    "    print(\"--Fourier {} Completed--\".format(i+1))\n",
    "    \n",
    "    static = Static_UM(RP_run_history=fourier.RP_run_history)\n",
    "    up, static_id = static.run(\n",
    "        static_dataset_size=static_dataset_size, \n",
    "        total_experiment_count=total_experiment_count, \n",
    "        tau=tau, window=window)\n",
    "    \n",
    "    fourier_ids[i] = fourier_id\n",
    "    fourier_reg_ids[i] = fourier_reg_id\n",
    "    static_ids[i] = static_id\n",
    "    static_params[i] = list(up.rand_search_.best_params_.values())"
   ]
  },
  {
   "cell_type": "code",
   "execution_count": null,
   "metadata": {},
   "outputs": [],
   "source": [
    "avg_ids = [np.mean(fourier_ids, axis=0), np.mean(static_ids, axis=0), np.mean(fourier_reg_ids, axis=0)]\n",
    "stds = [np.std(fourier_ids, axis=0), np.std(static_ids, axis=0), np.std(fourier_reg_ids, axis=0)]"
   ]
  },
  {
   "cell_type": "code",
   "execution_count": null,
   "metadata": {
    "scrolled": false
   },
   "outputs": [],
   "source": [
    "line_args=[\n",
    "    {\"color\": \"dodgerblue\", \"linewidth\": 2, \"zorder\": 103, \"label\": \"U-CMAB\"}, \n",
    "    {\"color\": \"firebrick\", \"linewidth\": 2, \"zorder\": 102, \"label\": \"Random Forest (ADWIN)\"}, \n",
    "    {\"color\": \"forestgreen\", \"linewidth\": 2, \"zorder\": 103, \"label\": \"CMAB\"}]\n",
    "band_args=[\n",
    "    {\"color\": \"turquoise\", \"alpha\": .35, \"linewidth\":0, \"zorder\": 101}, \n",
    "    {\"color\": \"deeppink\", \"alpha\": .15, \"linewidth\":0, \"zorder\": 100}, \n",
    "    {\"color\": \"lime\", \"alpha\": .25, \"linewidth\":0, \"zorder\": 100}]\n",
    "all_lines_args=[\n",
    "    {\"color\": \"deepskyblue\", \"alpha\": .1, \"linewidth\": .5}, \n",
    "    {\"color\": \"crimson\", \"alpha\": .1, \"linewidth\": .5}, \n",
    "    {\"color\": \"black\", \"alpha\": .1, \"linewidth\": .5}]\n",
    "std_args=[\n",
    "    {\"color\": \"deepskyblue\", \"linestyle\": \"--\", \"linewidth\": 2, \"dashes\": [10, 10]}, \n",
    "    {\"color\": \"crimson\", \"linestyle\": \"--\", \"linewidth\": 2, \"dashes\": [10, 10]}, \n",
    "    {\"color\": \"black\", \"linestyle\": \"--\", \"linewidth\": 2, \"dashes\": [10, 10]}]\n",
    "\n",
    "stop_RP_args={\"color\": \"tab:gray\", \"linewidth\":2, \"linestyle\": \"--\", \"dashes\": [5,5], \"alpha\": .8}\n",
    "stop_RP_text_args={\"y\": .95, \"color\": \"tab:gray\", \"size\": 19, \"fontstyle\": \"italic\"}\n",
    "drift_line_args={\"linestyle\": \":\", \"color\": \"tab:green\", \"alpha\": 1, \"linewidth\": 3}\n",
    "\n",
    "fig, ax = plot_results(avg_ids, stds, np.array([]), \n",
    "                 line_args=line_args, band_args=band_args, all_lines_args=all_lines_args, std_args=std_args,\n",
    "                stop_RP=static_dataset_size, stop_RP_args=stop_RP_args, stop_RP_text_args=stop_RP_text_args)"
   ]
  },
  {
   "cell_type": "raw",
   "metadata": {},
   "source": [
    "ax.figure.savefig('figure3.pdf', bbox_inches='tight', pad_inches=0)"
   ]
  }
 ],
 "metadata": {
  "kernelspec": {
   "display_name": "Python 3",
   "language": "python",
   "name": "python3"
  },
  "language_info": {
   "codemirror_mode": {
    "name": "ipython",
    "version": 3
   },
   "file_extension": ".py",
   "mimetype": "text/x-python",
   "name": "python",
   "nbconvert_exporter": "python",
   "pygments_lexer": "ipython3",
   "version": "3.7.1"
  }
 },
 "nbformat": 4,
 "nbformat_minor": 2
}
